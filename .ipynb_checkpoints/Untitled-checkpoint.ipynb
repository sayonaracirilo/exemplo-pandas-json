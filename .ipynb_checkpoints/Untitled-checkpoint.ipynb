{
 "cells": [
  {
   "cell_type": "markdown",
   "id": "d41dbb99",
   "metadata": {},
   "source": [
    "### Esse notebook irá mostrar como converter um  JSON em um DataFrame utilizando a biblioteca pandas."
   ]
  },
  {
   "cell_type": "markdown",
   "id": "4f763782",
   "metadata": {},
   "source": [
    "#### 1. Importação das bibliotecas que serão utilizadas "
   ]
  },
  {
   "cell_type": "code",
   "execution_count": 40,
   "id": "683d503b",
   "metadata": {},
   "outputs": [],
   "source": [
    "import pandas as pd\n",
    "from pandas import json_normalize"
   ]
  },
  {
   "cell_type": "code",
   "execution_count": 41,
   "id": "6acbad78",
   "metadata": {},
   "outputs": [
    {
     "ename": "FileNotFoundError",
     "evalue": "[Errno 2] No such file or directory: 'exemplo2.json'",
     "output_type": "error",
     "traceback": [
      "\u001b[1;31m---------------------------------------------------------------------------\u001b[0m",
      "\u001b[1;31mFileNotFoundError\u001b[0m                         Traceback (most recent call last)",
      "\u001b[1;32m<ipython-input-41-5218135f10bd>\u001b[0m in \u001b[0;36m<module>\u001b[1;34m\u001b[0m\n\u001b[0;32m      1\u001b[0m \u001b[0marquivo_json_exemplo_1\u001b[0m \u001b[1;33m=\u001b[0m \u001b[0mopen\u001b[0m\u001b[1;33m(\u001b[0m\u001b[1;34m'exemplo1.json'\u001b[0m\u001b[1;33m,\u001b[0m\u001b[1;34m'r'\u001b[0m\u001b[1;33m)\u001b[0m\u001b[1;33m\u001b[0m\u001b[1;33m\u001b[0m\u001b[0m\n\u001b[1;32m----> 2\u001b[1;33m \u001b[0marquivo_json_exemplo_2\u001b[0m \u001b[1;33m=\u001b[0m \u001b[0mopen\u001b[0m\u001b[1;33m(\u001b[0m\u001b[1;34m'exemplo2.json'\u001b[0m\u001b[1;33m,\u001b[0m\u001b[1;34m'r'\u001b[0m\u001b[1;33m)\u001b[0m\u001b[1;33m\u001b[0m\u001b[1;33m\u001b[0m\u001b[0m\n\u001b[0m",
      "\u001b[1;31mFileNotFoundError\u001b[0m: [Errno 2] No such file or directory: 'exemplo2.json'"
     ]
    }
   ],
   "source": [
    "arquivo_json_exemplo_1 = open('exemplo1.json','r') \n",
    "arquivo_json_exemplo_2 = open('exemplo2.json','r') "
   ]
  },
  {
   "cell_type": "code",
   "execution_count": null,
   "id": "364354ca",
   "metadata": {},
   "outputs": [],
   "source": [
    "dados_1 = json.loads(arquivo_json_exemplo_1.read())\n",
    "dados_2 = json.loads(arquivo_json_exemplo_2.read())"
   ]
  },
  {
   "cell_type": "code",
   "execution_count": null,
   "id": "de799b92",
   "metadata": {},
   "outputs": [],
   "source": [
    "dados_1"
   ]
  },
  {
   "cell_type": "code",
   "execution_count": null,
   "id": "941805df",
   "metadata": {},
   "outputs": [],
   "source": [
    "df = pd.json_normalize(dados, record_path =['estudantes'], meta=['curso', ['infor', 'coordenador'], \n",
    "        ['infor', 'contato', 'email'], ['infor', 'contato', 'tel']])"
   ]
  },
  {
   "cell_type": "code",
   "execution_count": null,
   "id": "9f8513e5",
   "metadata": {},
   "outputs": [],
   "source": [
    "df"
   ]
  },
  {
   "cell_type": "code",
   "execution_count": null,
   "id": "3339f3ef",
   "metadata": {},
   "outputs": [],
   "source": []
  }
 ],
 "metadata": {
  "kernelspec": {
   "display_name": "Python 3",
   "language": "python",
   "name": "python3"
  },
  "language_info": {
   "codemirror_mode": {
    "name": "ipython",
    "version": 3
   },
   "file_extension": ".py",
   "mimetype": "text/x-python",
   "name": "python",
   "nbconvert_exporter": "python",
   "pygments_lexer": "ipython3",
   "version": "3.8.8"
  }
 },
 "nbformat": 4,
 "nbformat_minor": 5
}
