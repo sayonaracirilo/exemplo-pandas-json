{
 "cells": [
  {
   "cell_type": "markdown",
   "id": "d41dbb99",
   "metadata": {},
   "source": [
    "### Esse notebook irá mostrar como converter um  JSON em um DataFrame utilizando a biblioteca pandas."
   ]
  },
  {
   "cell_type": "markdown",
   "id": "4f763782",
   "metadata": {},
   "source": [
    "#### 1. Importação das bibliotecas que serão utilizadas "
   ]
  },
  {
   "cell_type": "code",
   "execution_count": 55,
   "id": "683d503b",
   "metadata": {},
   "outputs": [],
   "source": [
    "import pandas as pd\n",
    "import json\n",
    "from pandas import json_normalize"
   ]
  },
  {
   "cell_type": "markdown",
   "id": "29ef7cd7",
   "metadata": {},
   "source": [
    "#### 2. Abrindo os arquivos somente para leitura "
   ]
  },
  {
   "cell_type": "code",
   "execution_count": 56,
   "id": "6acbad78",
   "metadata": {},
   "outputs": [],
   "source": [
    "arquivo_json_exemplo_1 = open('exemplo1.json','r') \n",
    "arquivo_json_exemplo_2 = open('exemplo2.json','r') "
   ]
  },
  {
   "cell_type": "markdown",
   "id": "ab58ef97",
   "metadata": {},
   "source": [
    "#### 3. Objeto JSON carregado usando a  função json.loads()"
   ]
  },
  {
   "cell_type": "code",
   "execution_count": 57,
   "id": "364354ca",
   "metadata": {},
   "outputs": [],
   "source": [
    "dados_1 = json.loads(arquivo_json_exemplo_1.read())\n",
    "dados_2 = json.loads(arquivo_json_exemplo_2.read())"
   ]
  },
  {
   "cell_type": "code",
   "execution_count": 58,
   "id": "de799b92",
   "metadata": {},
   "outputs": [
    {
     "data": {
      "text/plain": [
       "{'nome': 'Universidade de natal',\n",
       " 'curso': 'Engenharia de Computacao',\n",
       " 'infor': {'coordenador': 'Jose da Silva',\n",
       "  'endereco': 'Avenida Senador Salgado Filho',\n",
       "  'contato': {'email': 'jose@hotmail.com', 'tel': '123456789'}},\n",
       " 'estudantes': [{'id': 'A001',\n",
       "   'nome': 'Joao',\n",
       "   'idade': 20,\n",
       "   'email': 'joao@gmail.com',\n",
       "   'notas': {'matematica': 79, 'fisica': 90, 'quimica': 78}},\n",
       "  {'id': 'A002',\n",
       "   'nome': 'Pedro',\n",
       "   'idade': 24,\n",
       "   'email': 'pedro@gmail.com',\n",
       "   'notas': {'matematica': 75, 'fisica': 50, 'quimica': 25}},\n",
       "  {'id': 'A003',\n",
       "   'nome': 'Maira',\n",
       "   'idade': 23,\n",
       "   'email': 'Maira@gmail.com',\n",
       "   'notas': {'matematica': 25, 'fisica': 55, 'quimica': 15}}]}"
      ]
     },
     "execution_count": 58,
     "metadata": {},
     "output_type": "execute_result"
    }
   ],
   "source": [
    "dados_1"
   ]
  },
  {
   "cell_type": "code",
   "execution_count": 59,
   "id": "6b6295cb",
   "metadata": {
    "scrolled": true
   },
   "outputs": [
    {
     "data": {
      "text/plain": [
       "{'nome': 'Universidade de natal',\n",
       " 'curso': 'Engenharia Mecatronica',\n",
       " 'infor': {'coordenador': 'Maria da Silva',\n",
       "  'endereco': 'Avenida Bernado Vieira',\n",
       "  'contato': {'email': 'maria@hotmail.com', 'tel': '987654321'}},\n",
       " 'estudantes': [{'id': 'A004',\n",
       "   'nome': 'Lais',\n",
       "   'idade': 19,\n",
       "   'email': 'lais@gmail.com',\n",
       "   'notas': {'matematica': 10, 'fisica': 100, 'quimica': 100}},\n",
       "  {'id': 'A005',\n",
       "   'nome': 'thiago',\n",
       "   'idade': 28,\n",
       "   'email': 'thiago@gmail.com',\n",
       "   'notas': {'matematica': 10, 'fisica': 88, 'quimica': 95}},\n",
       "  {'id': 'A006',\n",
       "   'nome': 'May',\n",
       "   'idade': 18,\n",
       "   'email': 'May@gmail.com',\n",
       "   'notas': {'matematica': 100, 'fisica': 100, 'quimica': 100}}]}"
      ]
     },
     "execution_count": 59,
     "metadata": {},
     "output_type": "execute_result"
    }
   ],
   "source": [
    "dados_2"
   ]
  },
  {
   "cell_type": "markdown",
   "id": "0ac2214b",
   "metadata": {},
   "source": [
    "#### 4. Ler a string JSON de forma aninhada e devolve um DataFrame"
   ]
  },
  {
   "cell_type": "code",
   "execution_count": 60,
   "id": "941805df",
   "metadata": {},
   "outputs": [],
   "source": [
    "df_1 =  pd.json_normalize(dados_1, record_path =['estudantes'], meta=['curso', ['infor', 'coordenador'], \n",
    "        ['infor', 'contato', 'email'], ['infor', 'contato', 'tel']])"
   ]
  },
  {
   "cell_type": "code",
   "execution_count": 61,
   "id": "cc5bb60b",
   "metadata": {},
   "outputs": [
    {
     "data": {
      "text/html": [
       "<div>\n",
       "<style scoped>\n",
       "    .dataframe tbody tr th:only-of-type {\n",
       "        vertical-align: middle;\n",
       "    }\n",
       "\n",
       "    .dataframe tbody tr th {\n",
       "        vertical-align: top;\n",
       "    }\n",
       "\n",
       "    .dataframe thead th {\n",
       "        text-align: right;\n",
       "    }\n",
       "</style>\n",
       "<table border=\"1\" class=\"dataframe\">\n",
       "  <thead>\n",
       "    <tr style=\"text-align: right;\">\n",
       "      <th></th>\n",
       "      <th>id</th>\n",
       "      <th>nome</th>\n",
       "      <th>idade</th>\n",
       "      <th>email</th>\n",
       "      <th>notas.matematica</th>\n",
       "      <th>notas.fisica</th>\n",
       "      <th>notas.quimica</th>\n",
       "      <th>curso</th>\n",
       "      <th>infor.coordenador</th>\n",
       "      <th>infor.contato.email</th>\n",
       "      <th>infor.contato.tel</th>\n",
       "    </tr>\n",
       "  </thead>\n",
       "  <tbody>\n",
       "    <tr>\n",
       "      <th>0</th>\n",
       "      <td>A001</td>\n",
       "      <td>Joao</td>\n",
       "      <td>20</td>\n",
       "      <td>joao@gmail.com</td>\n",
       "      <td>79</td>\n",
       "      <td>90</td>\n",
       "      <td>78</td>\n",
       "      <td>Engenharia de Computacao</td>\n",
       "      <td>Jose da Silva</td>\n",
       "      <td>jose@hotmail.com</td>\n",
       "      <td>123456789</td>\n",
       "    </tr>\n",
       "    <tr>\n",
       "      <th>1</th>\n",
       "      <td>A002</td>\n",
       "      <td>Pedro</td>\n",
       "      <td>24</td>\n",
       "      <td>pedro@gmail.com</td>\n",
       "      <td>75</td>\n",
       "      <td>50</td>\n",
       "      <td>25</td>\n",
       "      <td>Engenharia de Computacao</td>\n",
       "      <td>Jose da Silva</td>\n",
       "      <td>jose@hotmail.com</td>\n",
       "      <td>123456789</td>\n",
       "    </tr>\n",
       "    <tr>\n",
       "      <th>2</th>\n",
       "      <td>A003</td>\n",
       "      <td>Maira</td>\n",
       "      <td>23</td>\n",
       "      <td>Maira@gmail.com</td>\n",
       "      <td>25</td>\n",
       "      <td>55</td>\n",
       "      <td>15</td>\n",
       "      <td>Engenharia de Computacao</td>\n",
       "      <td>Jose da Silva</td>\n",
       "      <td>jose@hotmail.com</td>\n",
       "      <td>123456789</td>\n",
       "    </tr>\n",
       "  </tbody>\n",
       "</table>\n",
       "</div>"
      ],
      "text/plain": [
       "     id   nome  idade            email  notas.matematica  notas.fisica  \\\n",
       "0  A001   Joao     20   joao@gmail.com                79            90   \n",
       "1  A002  Pedro     24  pedro@gmail.com                75            50   \n",
       "2  A003  Maira     23  Maira@gmail.com                25            55   \n",
       "\n",
       "   notas.quimica                     curso infor.coordenador  \\\n",
       "0             78  Engenharia de Computacao     Jose da Silva   \n",
       "1             25  Engenharia de Computacao     Jose da Silva   \n",
       "2             15  Engenharia de Computacao     Jose da Silva   \n",
       "\n",
       "  infor.contato.email infor.contato.tel  \n",
       "0    jose@hotmail.com         123456789  \n",
       "1    jose@hotmail.com         123456789  \n",
       "2    jose@hotmail.com         123456789  "
      ]
     },
     "execution_count": 61,
     "metadata": {},
     "output_type": "execute_result"
    }
   ],
   "source": [
    "df_1"
   ]
  },
  {
   "cell_type": "code",
   "execution_count": 62,
   "id": "9f8513e5",
   "metadata": {},
   "outputs": [],
   "source": [
    "df_2 =  pd.json_normalize(dados_2, record_path =['estudantes'], meta=['curso', ['infor', 'coordenador'], \n",
    "        ['infor', 'contato', 'email'], ['infor', 'contato', 'tel']])"
   ]
  },
  {
   "cell_type": "code",
   "execution_count": 63,
   "id": "3339f3ef",
   "metadata": {
    "scrolled": true
   },
   "outputs": [
    {
     "data": {
      "text/html": [
       "<div>\n",
       "<style scoped>\n",
       "    .dataframe tbody tr th:only-of-type {\n",
       "        vertical-align: middle;\n",
       "    }\n",
       "\n",
       "    .dataframe tbody tr th {\n",
       "        vertical-align: top;\n",
       "    }\n",
       "\n",
       "    .dataframe thead th {\n",
       "        text-align: right;\n",
       "    }\n",
       "</style>\n",
       "<table border=\"1\" class=\"dataframe\">\n",
       "  <thead>\n",
       "    <tr style=\"text-align: right;\">\n",
       "      <th></th>\n",
       "      <th>id</th>\n",
       "      <th>nome</th>\n",
       "      <th>idade</th>\n",
       "      <th>email</th>\n",
       "      <th>notas.matematica</th>\n",
       "      <th>notas.fisica</th>\n",
       "      <th>notas.quimica</th>\n",
       "      <th>curso</th>\n",
       "      <th>infor.coordenador</th>\n",
       "      <th>infor.contato.email</th>\n",
       "      <th>infor.contato.tel</th>\n",
       "    </tr>\n",
       "  </thead>\n",
       "  <tbody>\n",
       "    <tr>\n",
       "      <th>0</th>\n",
       "      <td>A004</td>\n",
       "      <td>Lais</td>\n",
       "      <td>19</td>\n",
       "      <td>lais@gmail.com</td>\n",
       "      <td>10</td>\n",
       "      <td>100</td>\n",
       "      <td>100</td>\n",
       "      <td>Engenharia Mecatronica</td>\n",
       "      <td>Maria da Silva</td>\n",
       "      <td>maria@hotmail.com</td>\n",
       "      <td>987654321</td>\n",
       "    </tr>\n",
       "    <tr>\n",
       "      <th>1</th>\n",
       "      <td>A005</td>\n",
       "      <td>thiago</td>\n",
       "      <td>28</td>\n",
       "      <td>thiago@gmail.com</td>\n",
       "      <td>10</td>\n",
       "      <td>88</td>\n",
       "      <td>95</td>\n",
       "      <td>Engenharia Mecatronica</td>\n",
       "      <td>Maria da Silva</td>\n",
       "      <td>maria@hotmail.com</td>\n",
       "      <td>987654321</td>\n",
       "    </tr>\n",
       "    <tr>\n",
       "      <th>2</th>\n",
       "      <td>A006</td>\n",
       "      <td>May</td>\n",
       "      <td>18</td>\n",
       "      <td>May@gmail.com</td>\n",
       "      <td>100</td>\n",
       "      <td>100</td>\n",
       "      <td>100</td>\n",
       "      <td>Engenharia Mecatronica</td>\n",
       "      <td>Maria da Silva</td>\n",
       "      <td>maria@hotmail.com</td>\n",
       "      <td>987654321</td>\n",
       "    </tr>\n",
       "  </tbody>\n",
       "</table>\n",
       "</div>"
      ],
      "text/plain": [
       "     id    nome  idade             email  notas.matematica  notas.fisica  \\\n",
       "0  A004    Lais     19    lais@gmail.com                10           100   \n",
       "1  A005  thiago     28  thiago@gmail.com                10            88   \n",
       "2  A006     May     18     May@gmail.com               100           100   \n",
       "\n",
       "   notas.quimica                   curso infor.coordenador  \\\n",
       "0            100  Engenharia Mecatronica    Maria da Silva   \n",
       "1             95  Engenharia Mecatronica    Maria da Silva   \n",
       "2            100  Engenharia Mecatronica    Maria da Silva   \n",
       "\n",
       "  infor.contato.email infor.contato.tel  \n",
       "0   maria@hotmail.com         987654321  \n",
       "1   maria@hotmail.com         987654321  \n",
       "2   maria@hotmail.com         987654321  "
      ]
     },
     "execution_count": 63,
     "metadata": {},
     "output_type": "execute_result"
    }
   ],
   "source": [
    "df_2"
   ]
  },
  {
   "cell_type": "markdown",
   "id": "0dda4248",
   "metadata": {},
   "source": [
    "#### 5. Concatenando os dados dos dois Dataframes"
   ]
  },
  {
   "cell_type": "code",
   "execution_count": 64,
   "id": "def3b2f0",
   "metadata": {},
   "outputs": [],
   "source": [
    "df_concat = pd.concat([df_1, df_2], ignore_index=True, join='inner' )"
   ]
  },
  {
   "cell_type": "code",
   "execution_count": 65,
   "id": "80f957a7",
   "metadata": {
    "scrolled": true
   },
   "outputs": [
    {
     "data": {
      "text/html": [
       "<div>\n",
       "<style scoped>\n",
       "    .dataframe tbody tr th:only-of-type {\n",
       "        vertical-align: middle;\n",
       "    }\n",
       "\n",
       "    .dataframe tbody tr th {\n",
       "        vertical-align: top;\n",
       "    }\n",
       "\n",
       "    .dataframe thead th {\n",
       "        text-align: right;\n",
       "    }\n",
       "</style>\n",
       "<table border=\"1\" class=\"dataframe\">\n",
       "  <thead>\n",
       "    <tr style=\"text-align: right;\">\n",
       "      <th></th>\n",
       "      <th>id</th>\n",
       "      <th>nome</th>\n",
       "      <th>idade</th>\n",
       "      <th>email</th>\n",
       "      <th>notas.matematica</th>\n",
       "      <th>notas.fisica</th>\n",
       "      <th>notas.quimica</th>\n",
       "      <th>curso</th>\n",
       "      <th>infor.coordenador</th>\n",
       "      <th>infor.contato.email</th>\n",
       "      <th>infor.contato.tel</th>\n",
       "    </tr>\n",
       "  </thead>\n",
       "  <tbody>\n",
       "    <tr>\n",
       "      <th>0</th>\n",
       "      <td>A001</td>\n",
       "      <td>Joao</td>\n",
       "      <td>20</td>\n",
       "      <td>joao@gmail.com</td>\n",
       "      <td>79</td>\n",
       "      <td>90</td>\n",
       "      <td>78</td>\n",
       "      <td>Engenharia de Computacao</td>\n",
       "      <td>Jose da Silva</td>\n",
       "      <td>jose@hotmail.com</td>\n",
       "      <td>123456789</td>\n",
       "    </tr>\n",
       "    <tr>\n",
       "      <th>1</th>\n",
       "      <td>A002</td>\n",
       "      <td>Pedro</td>\n",
       "      <td>24</td>\n",
       "      <td>pedro@gmail.com</td>\n",
       "      <td>75</td>\n",
       "      <td>50</td>\n",
       "      <td>25</td>\n",
       "      <td>Engenharia de Computacao</td>\n",
       "      <td>Jose da Silva</td>\n",
       "      <td>jose@hotmail.com</td>\n",
       "      <td>123456789</td>\n",
       "    </tr>\n",
       "    <tr>\n",
       "      <th>2</th>\n",
       "      <td>A003</td>\n",
       "      <td>Maira</td>\n",
       "      <td>23</td>\n",
       "      <td>Maira@gmail.com</td>\n",
       "      <td>25</td>\n",
       "      <td>55</td>\n",
       "      <td>15</td>\n",
       "      <td>Engenharia de Computacao</td>\n",
       "      <td>Jose da Silva</td>\n",
       "      <td>jose@hotmail.com</td>\n",
       "      <td>123456789</td>\n",
       "    </tr>\n",
       "    <tr>\n",
       "      <th>3</th>\n",
       "      <td>A004</td>\n",
       "      <td>Lais</td>\n",
       "      <td>19</td>\n",
       "      <td>lais@gmail.com</td>\n",
       "      <td>10</td>\n",
       "      <td>100</td>\n",
       "      <td>100</td>\n",
       "      <td>Engenharia Mecatronica</td>\n",
       "      <td>Maria da Silva</td>\n",
       "      <td>maria@hotmail.com</td>\n",
       "      <td>987654321</td>\n",
       "    </tr>\n",
       "    <tr>\n",
       "      <th>4</th>\n",
       "      <td>A005</td>\n",
       "      <td>thiago</td>\n",
       "      <td>28</td>\n",
       "      <td>thiago@gmail.com</td>\n",
       "      <td>10</td>\n",
       "      <td>88</td>\n",
       "      <td>95</td>\n",
       "      <td>Engenharia Mecatronica</td>\n",
       "      <td>Maria da Silva</td>\n",
       "      <td>maria@hotmail.com</td>\n",
       "      <td>987654321</td>\n",
       "    </tr>\n",
       "    <tr>\n",
       "      <th>5</th>\n",
       "      <td>A006</td>\n",
       "      <td>May</td>\n",
       "      <td>18</td>\n",
       "      <td>May@gmail.com</td>\n",
       "      <td>100</td>\n",
       "      <td>100</td>\n",
       "      <td>100</td>\n",
       "      <td>Engenharia Mecatronica</td>\n",
       "      <td>Maria da Silva</td>\n",
       "      <td>maria@hotmail.com</td>\n",
       "      <td>987654321</td>\n",
       "    </tr>\n",
       "  </tbody>\n",
       "</table>\n",
       "</div>"
      ],
      "text/plain": [
       "     id    nome  idade             email  notas.matematica  notas.fisica  \\\n",
       "0  A001    Joao     20    joao@gmail.com                79            90   \n",
       "1  A002   Pedro     24   pedro@gmail.com                75            50   \n",
       "2  A003   Maira     23   Maira@gmail.com                25            55   \n",
       "3  A004    Lais     19    lais@gmail.com                10           100   \n",
       "4  A005  thiago     28  thiago@gmail.com                10            88   \n",
       "5  A006     May     18     May@gmail.com               100           100   \n",
       "\n",
       "   notas.quimica                     curso infor.coordenador  \\\n",
       "0             78  Engenharia de Computacao     Jose da Silva   \n",
       "1             25  Engenharia de Computacao     Jose da Silva   \n",
       "2             15  Engenharia de Computacao     Jose da Silva   \n",
       "3            100    Engenharia Mecatronica    Maria da Silva   \n",
       "4             95    Engenharia Mecatronica    Maria da Silva   \n",
       "5            100    Engenharia Mecatronica    Maria da Silva   \n",
       "\n",
       "  infor.contato.email infor.contato.tel  \n",
       "0    jose@hotmail.com         123456789  \n",
       "1    jose@hotmail.com         123456789  \n",
       "2    jose@hotmail.com         123456789  \n",
       "3   maria@hotmail.com         987654321  \n",
       "4   maria@hotmail.com         987654321  \n",
       "5   maria@hotmail.com         987654321  "
      ]
     },
     "execution_count": 65,
     "metadata": {},
     "output_type": "execute_result"
    }
   ],
   "source": [
    "df_concat\n"
   ]
  },
  {
   "cell_type": "markdown",
   "id": "d2669097",
   "metadata": {},
   "source": [
    "#### 6. Renomeando as colunas"
   ]
  },
  {
   "cell_type": "code",
   "execution_count": 66,
   "id": "ed37d174",
   "metadata": {},
   "outputs": [],
   "source": [
    "df_concat.rename(columns={'notas.matematica': 'nota_matematica', 'notas.fisica': 'nota_fisica', 'notas.quimica': 'nota_quimica', 'infor.coordenador': 'coordenador_curso', 'infor.contato.email': 'coordenador_email','infor.contato.tel': 'coordenador_tel'} , inplace = True)"
   ]
  },
  {
   "cell_type": "code",
   "execution_count": 67,
   "id": "c280ed58",
   "metadata": {},
   "outputs": [
    {
     "data": {
      "text/html": [
       "<div>\n",
       "<style scoped>\n",
       "    .dataframe tbody tr th:only-of-type {\n",
       "        vertical-align: middle;\n",
       "    }\n",
       "\n",
       "    .dataframe tbody tr th {\n",
       "        vertical-align: top;\n",
       "    }\n",
       "\n",
       "    .dataframe thead th {\n",
       "        text-align: right;\n",
       "    }\n",
       "</style>\n",
       "<table border=\"1\" class=\"dataframe\">\n",
       "  <thead>\n",
       "    <tr style=\"text-align: right;\">\n",
       "      <th></th>\n",
       "      <th>id</th>\n",
       "      <th>nome</th>\n",
       "      <th>idade</th>\n",
       "      <th>email</th>\n",
       "      <th>nota_matematica</th>\n",
       "      <th>nota_fisica</th>\n",
       "      <th>nota_quimica</th>\n",
       "      <th>curso</th>\n",
       "      <th>coordenador_curso</th>\n",
       "      <th>coordenador_email</th>\n",
       "      <th>coordenador_tel</th>\n",
       "    </tr>\n",
       "  </thead>\n",
       "  <tbody>\n",
       "    <tr>\n",
       "      <th>0</th>\n",
       "      <td>A001</td>\n",
       "      <td>Joao</td>\n",
       "      <td>20</td>\n",
       "      <td>joao@gmail.com</td>\n",
       "      <td>79</td>\n",
       "      <td>90</td>\n",
       "      <td>78</td>\n",
       "      <td>Engenharia de Computacao</td>\n",
       "      <td>Jose da Silva</td>\n",
       "      <td>jose@hotmail.com</td>\n",
       "      <td>123456789</td>\n",
       "    </tr>\n",
       "    <tr>\n",
       "      <th>1</th>\n",
       "      <td>A002</td>\n",
       "      <td>Pedro</td>\n",
       "      <td>24</td>\n",
       "      <td>pedro@gmail.com</td>\n",
       "      <td>75</td>\n",
       "      <td>50</td>\n",
       "      <td>25</td>\n",
       "      <td>Engenharia de Computacao</td>\n",
       "      <td>Jose da Silva</td>\n",
       "      <td>jose@hotmail.com</td>\n",
       "      <td>123456789</td>\n",
       "    </tr>\n",
       "    <tr>\n",
       "      <th>2</th>\n",
       "      <td>A003</td>\n",
       "      <td>Maira</td>\n",
       "      <td>23</td>\n",
       "      <td>Maira@gmail.com</td>\n",
       "      <td>25</td>\n",
       "      <td>55</td>\n",
       "      <td>15</td>\n",
       "      <td>Engenharia de Computacao</td>\n",
       "      <td>Jose da Silva</td>\n",
       "      <td>jose@hotmail.com</td>\n",
       "      <td>123456789</td>\n",
       "    </tr>\n",
       "    <tr>\n",
       "      <th>3</th>\n",
       "      <td>A004</td>\n",
       "      <td>Lais</td>\n",
       "      <td>19</td>\n",
       "      <td>lais@gmail.com</td>\n",
       "      <td>10</td>\n",
       "      <td>100</td>\n",
       "      <td>100</td>\n",
       "      <td>Engenharia Mecatronica</td>\n",
       "      <td>Maria da Silva</td>\n",
       "      <td>maria@hotmail.com</td>\n",
       "      <td>987654321</td>\n",
       "    </tr>\n",
       "    <tr>\n",
       "      <th>4</th>\n",
       "      <td>A005</td>\n",
       "      <td>thiago</td>\n",
       "      <td>28</td>\n",
       "      <td>thiago@gmail.com</td>\n",
       "      <td>10</td>\n",
       "      <td>88</td>\n",
       "      <td>95</td>\n",
       "      <td>Engenharia Mecatronica</td>\n",
       "      <td>Maria da Silva</td>\n",
       "      <td>maria@hotmail.com</td>\n",
       "      <td>987654321</td>\n",
       "    </tr>\n",
       "    <tr>\n",
       "      <th>5</th>\n",
       "      <td>A006</td>\n",
       "      <td>May</td>\n",
       "      <td>18</td>\n",
       "      <td>May@gmail.com</td>\n",
       "      <td>100</td>\n",
       "      <td>100</td>\n",
       "      <td>100</td>\n",
       "      <td>Engenharia Mecatronica</td>\n",
       "      <td>Maria da Silva</td>\n",
       "      <td>maria@hotmail.com</td>\n",
       "      <td>987654321</td>\n",
       "    </tr>\n",
       "  </tbody>\n",
       "</table>\n",
       "</div>"
      ],
      "text/plain": [
       "     id    nome  idade             email  nota_matematica  nota_fisica  \\\n",
       "0  A001    Joao     20    joao@gmail.com               79           90   \n",
       "1  A002   Pedro     24   pedro@gmail.com               75           50   \n",
       "2  A003   Maira     23   Maira@gmail.com               25           55   \n",
       "3  A004    Lais     19    lais@gmail.com               10          100   \n",
       "4  A005  thiago     28  thiago@gmail.com               10           88   \n",
       "5  A006     May     18     May@gmail.com              100          100   \n",
       "\n",
       "   nota_quimica                     curso coordenador_curso  \\\n",
       "0            78  Engenharia de Computacao     Jose da Silva   \n",
       "1            25  Engenharia de Computacao     Jose da Silva   \n",
       "2            15  Engenharia de Computacao     Jose da Silva   \n",
       "3           100    Engenharia Mecatronica    Maria da Silva   \n",
       "4            95    Engenharia Mecatronica    Maria da Silva   \n",
       "5           100    Engenharia Mecatronica    Maria da Silva   \n",
       "\n",
       "   coordenador_email coordenador_tel  \n",
       "0   jose@hotmail.com       123456789  \n",
       "1   jose@hotmail.com       123456789  \n",
       "2   jose@hotmail.com       123456789  \n",
       "3  maria@hotmail.com       987654321  \n",
       "4  maria@hotmail.com       987654321  \n",
       "5  maria@hotmail.com       987654321  "
      ]
     },
     "execution_count": 67,
     "metadata": {},
     "output_type": "execute_result"
    }
   ],
   "source": [
    "df_concat"
   ]
  },
  {
   "cell_type": "markdown",
   "id": "73836b7a",
   "metadata": {},
   "source": [
    "### Referências"
   ]
  },
  {
   "cell_type": "markdown",
   "id": "1ec51d66",
   "metadata": {},
   "source": [
    "[1] - **Todos os Pandas json_normalize () que você deve saber para nivelar JSON.**\n",
    "Disponível em: https://ichi.pro/pt/todos-os-pandas-json-normalize-que-voce-deve-saber-para-nivelar-json-21899532810205"
   ]
  },
  {
   "cell_type": "markdown",
   "id": "daa69912",
   "metadata": {},
   "source": [
    "[2] - **Converting nested JSON structures to Pandas DataFrames**. Disponível em: https://medium.com/swlh/converting-nested-json-structures-to-pandas-dataframes-e8106c59976e"
   ]
  },
  {
   "cell_type": "code",
   "execution_count": null,
   "id": "dd2cc3d9",
   "metadata": {},
   "outputs": [],
   "source": []
  }
 ],
 "metadata": {
  "kernelspec": {
   "display_name": "Python 3",
   "language": "python",
   "name": "python3"
  },
  "language_info": {
   "codemirror_mode": {
    "name": "ipython",
    "version": 3
   },
   "file_extension": ".py",
   "mimetype": "text/x-python",
   "name": "python",
   "nbconvert_exporter": "python",
   "pygments_lexer": "ipython3",
   "version": "3.8.8"
  }
 },
 "nbformat": 4,
 "nbformat_minor": 5
}
